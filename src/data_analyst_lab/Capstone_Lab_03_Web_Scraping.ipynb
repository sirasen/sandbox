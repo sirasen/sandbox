{
 "cells": [
  {
   "cell_type": "code",
   "execution_count": null,
   "metadata": {},
   "outputs": [],
   "source": [
    "%pip install bs4\n",
    "%pip install requests"
   ]
  },
  {
   "cell_type": "code",
   "execution_count": null,
   "metadata": {},
   "outputs": [],
   "source": [
    "from bs4 import BeautifulSoup\n",
    "import requests"
   ]
  },
  {
   "cell_type": "code",
   "execution_count": null,
   "metadata": {},
   "outputs": [],
   "source": [
    "URL = \"http://www.ibm.com\"\n",
    "\n",
    "data = requests.get(URL).text\n",
    "\n",
    "soup = BeautifulSoup(data, \"html.parser\")\n",
    "\n",
    "for link in soup.find_all('a'):\n",
    "    print(link.get('href'))\n",
    "\n",
    "for link in soup.find_all('img'):\n",
    "    print(link.get('src'))"
   ]
  },
  {
   "cell_type": "code",
   "execution_count": 8,
   "metadata": {},
   "outputs": [
    {
     "name": "stdout",
     "output_type": "stream",
     "text": [
      "Color Name ---> dHex Code#RRGGBB\n",
      "lightsalmon ---> d#FFA07A\n",
      "salmon ---> d#FA8072\n",
      "darksalmon ---> d#E9967A\n",
      "lightcoral ---> d#F08080\n",
      "coral ---> d#FF7F50\n",
      "tomato ---> d#FF6347\n",
      "orangered ---> d#FF4500\n",
      "gold ---> d#FFD700\n",
      "orange ---> d#FFA500\n",
      "darkorange ---> d#FF8C00\n",
      "lightyellow ---> d#FFFFE0\n",
      "lemonchiffon ---> d#FFFACD\n",
      "papayawhip ---> d#FFEFD5\n",
      "moccasin ---> d#FFE4B5\n",
      "peachpuff ---> d#FFDAB9\n",
      "palegoldenrod ---> d#EEE8AA\n",
      "khaki ---> d#F0E68C\n",
      "darkkhaki ---> d#BDB76B\n",
      "yellow ---> d#FFFF00\n",
      "lawngreen ---> d#7CFC00\n",
      "chartreuse ---> d#7FFF00\n",
      "limegreen ---> d#32CD32\n",
      "lime ---> d#00FF00\n",
      "forestgreen ---> d#228B22\n",
      "green ---> d#008000\n",
      "powderblue ---> d#B0E0E6\n",
      "lightblue ---> d#ADD8E6\n",
      "lightskyblue ---> d#87CEFA\n",
      "skyblue ---> d#87CEEB\n",
      "deepskyblue ---> d#00BFFF\n",
      "lightsteelblue ---> d#B0C4DE\n",
      "dodgerblue ---> d#1E90FF\n"
     ]
    }
   ],
   "source": [
    "URL = \"https://cf-courses-data.s3.us.cloud-object-storage.appdomain.cloud/IBM-DA0321EN-SkillsNetwork/labs/datasets/HTMLColorCodes.html\"\n",
    "\n",
    "data  = requests.get(URL).text\n",
    "\n",
    "soup = BeautifulSoup(data,\"html.parser\")\n",
    "table = soup.find('table')\n",
    "\n",
    "for row in table.find_all('tr'):\n",
    "    cols = row.find_all('td')\n",
    "    color_name = cols[2].getText()\n",
    "    color_code = cols[3].getText()\n",
    "    print(f\"{color_name} ---> d{color_code}\")"
   ]
  }
 ],
 "metadata": {
  "kernelspec": {
   "display_name": "Environment_Coursera_Data_Science_Course",
   "language": "python",
   "name": "python3"
  },
  "language_info": {
   "codemirror_mode": {
    "name": "ipython",
    "version": 3
   },
   "file_extension": ".py",
   "mimetype": "text/x-python",
   "name": "python",
   "nbconvert_exporter": "python",
   "pygments_lexer": "ipython3",
   "version": "3.12.5"
  }
 },
 "nbformat": 4,
 "nbformat_minor": 2
}

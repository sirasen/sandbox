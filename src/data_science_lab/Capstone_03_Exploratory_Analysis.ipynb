{
 "cells": [
  {
   "cell_type": "code",
   "execution_count": null,
   "id": "d0fff76c83187980",
   "metadata": {},
   "outputs": [],
   "source": [
    "%pip install sqlalchemy\n",
    "%pip install ipython-sql\n",
    "%load_ext sql"
   ]
  },
  {
   "cell_type": "code",
   "execution_count": 1,
   "id": "7a4781b9493a1a2f",
   "metadata": {},
   "outputs": [],
   "source": [
    "import sqlite3\n",
    "import numpy as np\n",
    "import pandas as pd\n",
    "import seaborn as sns\n",
    "import matplotlib.pyplot as plt"
   ]
  },
  {
   "cell_type": "code",
   "execution_count": null,
   "id": "4cc5c7da2c8bcebc",
   "metadata": {},
   "outputs": [],
   "source": [
    "con = sqlite3.connect(\"my_data.db\")"
   ]
  },
  {
   "cell_type": "code",
   "execution_count": null,
   "id": "c7d5ef9365297273",
   "metadata": {},
   "outputs": [],
   "source": [
    "cur = con.cursor()"
   ]
  },
  {
   "cell_type": "code",
   "execution_count": null,
   "id": "976dd0f35ec46b2c",
   "metadata": {},
   "outputs": [],
   "source": [
    "%sql sqlite:///my_data.db"
   ]
  },
  {
   "cell_type": "code",
   "execution_count": null,
   "id": "1413b3b6d806e7b1",
   "metadata": {},
   "outputs": [],
   "source": [
    "df = pd.read_csv('https://cf-courses-data.s3.us.cloud-object-storage.appdomain.cloud/IBM-DS0321EN-SkillsNetwork/labs/module_2/data/Spacex.csv')"
   ]
  },
  {
   "cell_type": "code",
   "execution_count": null,
   "id": "f362086f78065a6a",
   "metadata": {},
   "outputs": [],
   "source": [
    "df.to_sql('SPACE_X_TBL', con, if_exists='replace', index='False', method='multi')"
   ]
  },
  {
   "cell_type": "code",
   "execution_count": null,
   "id": "2295f6441e1df504",
   "metadata": {},
   "outputs": [],
   "source": [
    "%sql SELECT * FROM SPACE_X_TBL LIMIT 5;"
   ]
  },
  {
   "cell_type": "code",
   "execution_count": null,
   "id": "c13982fc3cae83d7",
   "metadata": {},
   "outputs": [],
   "source": [
    "%sql DROP TABLE IF EXISTS SPACEXTABLE;"
   ]
  },
  {
   "cell_type": "code",
   "execution_count": null,
   "id": "27ad8865ffcae7ef",
   "metadata": {},
   "outputs": [],
   "source": [
    "%sql CREATE TABLE SPACEXTABLE AS SELECT * FROM SPACE_X_TBL WHERE Date IS NOT NULL;"
   ]
  },
  {
   "cell_type": "code",
   "execution_count": null,
   "id": "4a8f6b99bda2184",
   "metadata": {},
   "outputs": [],
   "source": [
    "%sql SELECT * FROM SPACEXTABLE LIMIT 5;"
   ]
  },
  {
   "cell_type": "code",
   "execution_count": null,
   "id": "3cbf434a573b8859",
   "metadata": {},
   "outputs": [],
   "source": [
    "%sql SELECT DISTINCT(Launch_Site) FROM SPACEXTABLE;"
   ]
  },
  {
   "cell_type": "code",
   "execution_count": null,
   "id": "2c7e6f8531015a22",
   "metadata": {},
   "outputs": [],
   "source": [
    "%sql SELECT * FROM SPACEXTABLE WHERE Launch_Site LIKE 'CCA%' LIMIT 5;"
   ]
  },
  {
   "cell_type": "code",
   "execution_count": null,
   "id": "27fa06d7872ac8de",
   "metadata": {},
   "outputs": [],
   "source": [
    "%sql SELECT SUM(PAYLOAD_MASS__KG_) FROM SPACEXTABLE WHERE Customer LIKE '%NASA (CRS)' LIMIT 5;"
   ]
  },
  {
   "cell_type": "code",
   "execution_count": null,
   "id": "7bf1fae7f639a07e",
   "metadata": {},
   "outputs": [],
   "source": [
    "%sql SELECT AVG(PAYLOAD_MASS__KG_) FROM SPACEXTABLE WHERE Booster_Version like 'F9 v1.1%'"
   ]
  },
  {
   "cell_type": "code",
   "execution_count": null,
   "id": "beb606a9fddcaf58",
   "metadata": {},
   "outputs": [],
   "source": [
    "%sql SELECT MIN(Date) FROM SPACEXTABLE WHERE Landing_Outcome = 'Success (ground pad)';"
   ]
  },
  {
   "cell_type": "code",
   "execution_count": null,
   "id": "3f85230a55ccf960",
   "metadata": {},
   "outputs": [],
   "source": [
    "%sql SELECT Booster_Version FROM SPACEXTABLE WHERE Landing_Outcome = 'Success (drone ship)' AND PAYLOAD_MASS__KG_ > 4000 AND PAYLOAD_MASS__KG_ < 6000;"
   ]
  },
  {
   "cell_type": "code",
   "execution_count": null,
   "id": "66297ff28d39d4e6",
   "metadata": {},
   "outputs": [],
   "source": [
    "%sql SELECT COUNT(Landing_Outcome) FROM SPACEXTABLE WHERE Landing_Outcome LIKE '%Failure%' OR Landing_Outcome LIKE '%Success%';"
   ]
  },
  {
   "cell_type": "code",
   "execution_count": null,
   "id": "b1882f4c5f4e5375",
   "metadata": {},
   "outputs": [],
   "source": [
    "%sql SELECT DISTINCT(Booster_Version) FROM SPACEXTABLE WHERE PAYLOAD_MASS__KG_ IN (SELECT MAX(PAYLOAD_MASS__KG_) FROM SPACEXTABLE);"
   ]
  },
  {
   "cell_type": "code",
   "execution_count": null,
   "id": "83c4443fa10cc845",
   "metadata": {},
   "outputs": [],
   "source": [
    "%sql SELECT substr(Date, 6, 2) AS Month, Landing_Outcome, Booster_Version, Launch_Site FROM SPACEXTABLE WHERE Landing_Outcome = 'Failure (drone ship)' AND substr(Date, 0, 5) = '2015';"
   ]
  },
  {
   "cell_type": "code",
   "execution_count": null,
   "id": "5de608a65f888c20",
   "metadata": {},
   "outputs": [],
   "source": [
    "%sql SELECT COUNT(Landing_Outcome) FROM SPACEXTABLE WHERE Date >= 2010-06-04 GROUP BY Landing_Outcome  ORDER BY COUNT(Landing_Outcome) DESC;"
   ]
  },
  {
   "cell_type": "code",
   "execution_count": null,
   "id": "b832904e3b9bb642",
   "metadata": {},
   "outputs": [],
   "source": [
    "df = pd.read_csv('https://cf-courses-data.s3.us.cloud-object-storage.appdomain.cloud/IBM-DS0321EN-SkillsNetwork/datasets/dataset_part_2.csv')\n",
    "\n",
    "df.head(5)"
   ]
  },
  {
   "cell_type": "code",
   "execution_count": null,
   "id": "5e453863f6742dc9",
   "metadata": {},
   "outputs": [],
   "source": [
    "sns.catplot(x='FlightNumber', y='PayloadMass',hue='Class', data=df, aspect=5)\n",
    "plt.xlabel(\"Flight Number\",fontsize=20)\n",
    "plt.ylabel(\"Pay load Mass (kg)\",fontsize=20)\n",
    "plt.show()"
   ]
  },
  {
   "cell_type": "code",
   "execution_count": null,
   "id": "456da949db8c25e7",
   "metadata": {},
   "outputs": [],
   "source": [
    "sns.catplot(x='FlightNumber', y='LaunchSite',hue='Class', data=df, aspect=5)\n",
    "plt.xlabel(\"Flight Number\",fontsize=20)\n",
    "plt.ylabel(\"Launch Site\",fontsize=20)\n",
    "plt.show()"
   ]
  },
  {
   "cell_type": "code",
   "execution_count": null,
   "id": "4548a297660ee306",
   "metadata": {},
   "outputs": [],
   "source": [
    "sns.scatterplot(x='PayloadMass', y='LaunchSite',hue='Class', data=df)\n",
    "plt.xlabel(\"PayloadMass\",fontsize=20)\n",
    "plt.ylabel(\"Launch Site\",fontsize=20)\n",
    "plt.show()"
   ]
  },
  {
   "cell_type": "code",
   "execution_count": null,
   "id": "5b602d0d836534ce",
   "metadata": {},
   "outputs": [],
   "source": [
    "sns.barplot(x='Orbit', y='Class', data=df.groupby('Orbit')['Class'].mean().to_frame())"
   ]
  },
  {
   "cell_type": "code",
   "execution_count": null,
   "id": "a9982c570c14593f",
   "metadata": {},
   "outputs": [],
   "source": [
    "sns.scatterplot(x='FlightNumber', y='Orbit', data=df, hue='Class')"
   ]
  },
  {
   "cell_type": "code",
   "execution_count": null,
   "id": "cef34c5d7225c67b",
   "metadata": {},
   "outputs": [],
   "source": [
    "sns.scatterplot(x='PayloadMass', y='Orbit', data=df, hue='Class')"
   ]
  },
  {
   "cell_type": "code",
   "execution_count": null,
   "id": "e28e2d4aa6220a58",
   "metadata": {},
   "outputs": [],
   "source": [
    "df[['Date']].head()"
   ]
  },
  {
   "cell_type": "code",
   "execution_count": null,
   "id": "e9114170bb22b10e",
   "metadata": {},
   "outputs": [],
   "source": [
    "df.dtypes"
   ]
  },
  {
   "cell_type": "code",
   "execution_count": null,
   "id": "74d2e3bcc1ebdf58",
   "metadata": {},
   "outputs": [],
   "source": [
    "df['Year'] = df['Date'].astype('datetime64[s]').dt.year"
   ]
  },
  {
   "cell_type": "code",
   "execution_count": null,
   "id": "f793b59fca0e49c4",
   "metadata": {},
   "outputs": [],
   "source": [
    "df[['Date', 'Year', 'Month']].head()"
   ]
  },
  {
   "cell_type": "code",
   "execution_count": null,
   "id": "8a1a39a1e4560fc7",
   "metadata": {},
   "outputs": [],
   "source": [
    "sns.lineplot(data = df.groupby('Year')['Class'].mean().to_frame(), x='Year', y='Class')"
   ]
  },
  {
   "cell_type": "code",
   "execution_count": null,
   "id": "c9320ac952626500",
   "metadata": {},
   "outputs": [],
   "source": [
    "features = df[['FlightNumber', 'PayloadMass', 'Orbit', 'LaunchSite', 'Flights', 'GridFins', 'Reused', 'Legs', 'LandingPad', 'Block', 'ReusedCount', 'Serial']]\n",
    "features.head()"
   ]
  },
  {
   "cell_type": "code",
   "execution_count": null,
   "id": "b1ef0f855c6d97ef",
   "metadata": {},
   "outputs": [],
   "source": [
    "features_one_hot = pd.get_dummies(data=features, columns=['Orbit', 'LaunchSite', 'LandingPad', 'Serial'])"
   ]
  },
  {
   "cell_type": "code",
   "execution_count": null,
   "id": "78dc4968379e519b",
   "metadata": {},
   "outputs": [],
   "source": [
    "features_one_hot.drop(columns=['Date', 'BoosterVersion', 'Outcome'], inplace=True)"
   ]
  },
  {
   "cell_type": "code",
   "execution_count": null,
   "id": "27658611f43f4fa3",
   "metadata": {},
   "outputs": [],
   "source": [
    "features_one_hot = features_one_hot.astype(np.float64)\n",
    "features_one_hot.dtypes"
   ]
  },
  {
   "cell_type": "code",
   "execution_count": null,
   "id": "65ae123811e5d45e",
   "metadata": {},
   "outputs": [],
   "source": [
    "features_one_hot.shape"
   ]
  }
 ],
 "metadata": {
  "kernelspec": {
   "display_name": "Environment_Coursera_Data_Science_Course",
   "language": "python",
   "name": "python3"
  },
  "language_info": {
   "codemirror_mode": {
    "name": "ipython",
    "version": 3
   },
   "file_extension": ".py",
   "mimetype": "text/x-python",
   "name": "python",
   "nbconvert_exporter": "python",
   "pygments_lexer": "ipython3",
   "version": "3.12.5"
  }
 },
 "nbformat": 4,
 "nbformat_minor": 5
}

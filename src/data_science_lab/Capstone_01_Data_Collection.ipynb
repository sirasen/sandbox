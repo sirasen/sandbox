{
 "cells": [
  {
   "cell_type": "code",
   "execution_count": 1,
   "id": "initial_id",
   "metadata": {
    "collapsed": true
   },
   "outputs": [],
   "source": [
    "import requests\n",
    "import datetime\n",
    "import unicodedata\n",
    "import numpy as np\n",
    "import pandas as pd\n",
    "\n",
    "from bs4 import BeautifulSoup"
   ]
  },
  {
   "cell_type": "code",
   "execution_count": null,
   "id": "5e49edaa1897cbf7",
   "metadata": {},
   "outputs": [],
   "source": [
    "# Global variables \n",
    "BoosterVersion = []\n",
    "PayloadMass = []\n",
    "Orbit = []\n",
    "LaunchSite = []\n",
    "Outcome = []\n",
    "Flights = []\n",
    "GridFins = []\n",
    "Reused = []\n",
    "Legs = []\n",
    "LandingPad = []\n",
    "Block = []\n",
    "ReusedCount = []\n",
    "Serial = []\n",
    "Longitude = []\n",
    "Latitude = []"
   ]
  },
  {
   "cell_type": "code",
   "execution_count": null,
   "id": "b8fdbf5b80f2616c",
   "metadata": {},
   "outputs": [],
   "source": [
    "# Takes the dataset and uses the rocket column to call the API and append the data to the list\n",
    "def getBoosterVersion(data):\n",
    "    for x in data['rocket']:\n",
    "       if x:\n",
    "        response = requests.get(\"https://api.spacexdata.com/v4/rockets/\"+str(x)).json()\n",
    "        BoosterVersion.append(response['name'])\n",
    "        \n",
    "# Takes the dataset and uses the launchpad column to call the API and append the data to the list\n",
    "def getLaunchSite(data):\n",
    "    for x in data['launchpad']:\n",
    "       if x:\n",
    "         response = requests.get(\"https://api.spacexdata.com/v4/launchpads/\"+str(x)).json()\n",
    "         Longitude.append(response['longitude'])\n",
    "         Latitude.append(response['latitude'])\n",
    "         LaunchSite.append(response['name'])\n",
    "         \n",
    "# Takes the dataset and uses the payloads column to call the API and append the data to the lists\n",
    "def getPayloadData(data):\n",
    "    for load in data['payloads']:\n",
    "       if load:\n",
    "        response = requests.get(\"https://api.spacexdata.com/v4/payloads/\"+load).json()\n",
    "        PayloadMass.append(response['mass_kg'])\n",
    "        Orbit.append(response['orbit'])\n",
    "        \n",
    "# Takes the dataset and uses the cores column to call the API and append the data to the lists\n",
    "def getCoreData(data):\n",
    "    for core in data['cores']:\n",
    "            if core['core'] != None:\n",
    "                response = requests.get(\"https://api.spacexdata.com/v4/cores/\"+core['core']).json()\n",
    "                Block.append(response['block'])\n",
    "                ReusedCount.append(response['reuse_count'])\n",
    "                Serial.append(response['serial'])\n",
    "            else:\n",
    "                Block.append(None)\n",
    "                ReusedCount.append(None)\n",
    "                Serial.append(None)\n",
    "            Outcome.append(str(core['landing_success'])+' '+str(core['landing_type']))\n",
    "            Flights.append(core['flight'])\n",
    "            GridFins.append(core['gridfins'])\n",
    "            Reused.append(core['reused'])\n",
    "            Legs.append(core['legs'])\n",
    "            LandingPad.append(core['landpad'])        "
   ]
  },
  {
   "cell_type": "code",
   "execution_count": null,
   "id": "66c83d28c3021778",
   "metadata": {},
   "outputs": [],
   "source": [
    "#spacex_url=\"https://api.spacexdata.com/v4/launches/past\"\n",
    "static_json_url='https://cf-courses-data.s3.us.cloud-object-storage.appdomain.cloud/IBM-DS0321EN-SkillsNetwork/datasets/API_call_spacex_api.json'\n",
    "\n",
    "response=requests.get(static_json_url)"
   ]
  },
  {
   "cell_type": "code",
   "execution_count": null,
   "id": "7455b98d4f050ec9",
   "metadata": {},
   "outputs": [],
   "source": [
    "response.status_code"
   ]
  },
  {
   "cell_type": "code",
   "execution_count": null,
   "id": "edead382cab9a406",
   "metadata": {},
   "outputs": [],
   "source": [
    "data = pd.json_normalize(response.json())"
   ]
  },
  {
   "cell_type": "code",
   "execution_count": null,
   "id": "80689993521905f8",
   "metadata": {},
   "outputs": [],
   "source": [
    "data.head(5)"
   ]
  },
  {
   "cell_type": "code",
   "execution_count": null,
   "id": "c4ebfab963a335ac",
   "metadata": {},
   "outputs": [],
   "source": [
    "# Let's take a subset of our dataframe keeping only the features we want and the flight number, and date_utc.\n",
    "data = data[['rocket', 'payloads', 'launchpad', 'cores', 'flight_number', 'date_utc']]\n",
    "\n",
    "# We will remove rows with multiple cores because those are falcon rockets with 2 extra rocket boosters and rows that have multiple payloads in a single rocket.\n",
    "data = data[data['cores'].map(len)==1]\n",
    "data = data[data['payloads'].map(len)==1]\n",
    "\n",
    "# Since payloads and cores are lists of size 1 we will also extract the single value in the list and replace the feature.\n",
    "data['cores'] = data['cores'].map(lambda x : x[0])\n",
    "data['payloads'] = data['payloads'].map(lambda x : x[0])\n",
    "\n",
    "# We also want to convert the date_utc to a datetime datatype and then extracting the date leaving the time\n",
    "data['date'] = pd.to_datetime(data['date_utc']).dt.date\n",
    "\n",
    "# Using the date we will restrict the dates of the launches\n",
    "data = data[data['date'] <= datetime.date(2020, 11, 13)]"
   ]
  },
  {
   "cell_type": "code",
   "execution_count": null,
   "id": "49e427ea6b9d847d",
   "metadata": {},
   "outputs": [],
   "source": [
    "getBoosterVersion(data)\n",
    "getLaunchSite(data)\n",
    "getPayloadData(data)\n",
    "getCoreData(data)"
   ]
  },
  {
   "cell_type": "code",
   "execution_count": null,
   "id": "84dff603cec181c",
   "metadata": {},
   "outputs": [],
   "source": [
    "launch_dict = {\n",
    "    'FlightNumber': list(data['flight_number']),\n",
    "    'Date': list(data['date']),\n",
    "    'BoosterVersion':BoosterVersion,\n",
    "    'PayloadMass':PayloadMass,\n",
    "    'Orbit':Orbit,\n",
    "    'LaunchSite':LaunchSite,\n",
    "    'Outcome':Outcome,\n",
    "    'Flights':Flights,\n",
    "    'GridFins':GridFins,\n",
    "    'Reused':Reused,\n",
    "    'Legs':Legs,\n",
    "    'LandingPad':LandingPad,\n",
    "    'Block':Block,\n",
    "    'ReusedCount':ReusedCount,\n",
    "    'Serial':Serial,\n",
    "    'Longitude': Longitude,\n",
    "    'Latitude': Latitude\n",
    "}"
   ]
  },
  {
   "cell_type": "code",
   "execution_count": null,
   "id": "7c062225b64bdcb7",
   "metadata": {},
   "outputs": [],
   "source": [
    "df = pd.DataFrame.from_dict(launch_dict)"
   ]
  },
  {
   "cell_type": "code",
   "execution_count": null,
   "id": "df4c8e04f1f63ee0",
   "metadata": {},
   "outputs": [],
   "source": [
    "data_falcon9 = df[df['BoosterVersion']=='Falcon 9']"
   ]
  },
  {
   "cell_type": "code",
   "execution_count": null,
   "id": "2a38fb5c7664b5f3",
   "metadata": {},
   "outputs": [],
   "source": [
    "data_falcon9"
   ]
  },
  {
   "cell_type": "code",
   "execution_count": null,
   "id": "9580ff7439f5248b",
   "metadata": {},
   "outputs": [],
   "source": [
    "data_falcon9.loc[:,'FlightNumber'] = list(range(1, data_falcon9.shape[0]+1))"
   ]
  },
  {
   "cell_type": "code",
   "execution_count": null,
   "id": "98164e651dfc4c57",
   "metadata": {},
   "outputs": [],
   "source": [
    "data_falcon9.isnull().sum()"
   ]
  },
  {
   "cell_type": "code",
   "execution_count": null,
   "id": "7903e0311e8eb5d9",
   "metadata": {},
   "outputs": [],
   "source": [
    "data_falcon9 = data_falcon9.replace({ 'PayloadMass' : np.nan }, data_falcon9['PayloadMass'].mean())"
   ]
  },
  {
   "cell_type": "code",
   "execution_count": null,
   "id": "456abadd91597c8b",
   "metadata": {},
   "outputs": [],
   "source": [
    "data_falcon9"
   ]
  },
  {
   "cell_type": "code",
   "execution_count": null,
   "id": "6eb97ee288d52f4d",
   "metadata": {},
   "outputs": [],
   "source": [
    "data_falcon9.isnull().sum()"
   ]
  },
  {
   "cell_type": "code",
   "execution_count": null,
   "id": "b65a0934c91f4556",
   "metadata": {},
   "outputs": [],
   "source": [
    "def date_time(table_cells):\n",
    "    \"\"\"\n",
    "    This function returns the data and time from the HTML  table cell\n",
    "    Input: the  element of a table data cell extracts extra row\n",
    "    \"\"\"\n",
    "    return [data_time.strip() for data_time in list(table_cells.strings)][0:2]\n",
    "\n",
    "def booster_version(table_cells):\n",
    "    \"\"\"\n",
    "    This function returns the booster version from the HTML  table cell \n",
    "    Input: the  element of a table data cell extracts extra row\n",
    "    \"\"\"\n",
    "    out=''.join([booster_version for i,booster_version in enumerate( table_cells.strings) if i%2==0][0:-1])\n",
    "    return out\n",
    "\n",
    "def landing_status(table_cells):\n",
    "    \"\"\"\n",
    "    This function returns the landing status from the HTML table cell \n",
    "    Input: the  element of a table data cell extracts extra row\n",
    "    \"\"\"\n",
    "    out=[i for i in table_cells.strings][0]\n",
    "    return out\n",
    "\n",
    "\n",
    "def get_mass(table_cells):\n",
    "    mass=unicodedata.normalize(\"NFKD\", table_cells.text).strip()\n",
    "    if mass:\n",
    "        mass.find(\"kg\")\n",
    "        new_mass=mass[0:mass.find(\"kg\")+2]\n",
    "    else:\n",
    "        new_mass=0\n",
    "    return new_mass\n",
    "\n",
    "\n",
    "def extract_column_from_header(row):\n",
    "    \"\"\"\n",
    "    This function returns the landing status from the HTML table cell \n",
    "    Input: the  element of a table data cell extracts extra row\n",
    "    \"\"\"\n",
    "    if (row.br):\n",
    "        row.br.extract()\n",
    "    if row.a:\n",
    "        row.a.extract()\n",
    "    if row.sup:\n",
    "        row.sup.extract()\n",
    "        \n",
    "    colunm_name = ' '.join(row.contents)\n",
    "    \n",
    "    # Filter the digit and empty names\n",
    "    if not(colunm_name.strip().isdigit()):\n",
    "        colunm_name = colunm_name.strip()\n",
    "        return colunm_name    "
   ]
  },
  {
   "cell_type": "code",
   "execution_count": null,
   "id": "9a14558244ef03b4",
   "metadata": {},
   "outputs": [],
   "source": [
    "static_url = \"https://en.wikipedia.org/w/index.php?title=List_of_Falcon_9_and_Falcon_Heavy_launches&oldid=1027686922\"\n",
    "\n",
    "response = requests.get(static_url)\n",
    "bs = BeautifulSoup(response.text, 'html.parser')"
   ]
  },
  {
   "cell_type": "code",
   "execution_count": null,
   "id": "2fead2ee67dc3ec0",
   "metadata": {},
   "outputs": [],
   "source": [
    "print(bs.title.string)"
   ]
  },
  {
   "cell_type": "code",
   "execution_count": null,
   "id": "6b07dc8672544434",
   "metadata": {},
   "outputs": [],
   "source": [
    "html_tables = bs.find_all(\"table\")\n"
   ]
  },
  {
   "cell_type": "code",
   "execution_count": null,
   "id": "9b04d40bbdaa2dc",
   "metadata": {},
   "outputs": [],
   "source": [
    "first_launch_table = html_tables[2]"
   ]
  },
  {
   "cell_type": "code",
   "execution_count": null,
   "id": "731dea8127f6511d",
   "metadata": {},
   "outputs": [],
   "source": [
    "column_names = []\n",
    "\n",
    "headers = first_launch_table.find_all(\"th\")\n",
    "\n",
    "for header in headers:\n",
    "    header_name = extract_column_from_header(header)\n",
    "    if header_name is not None and header_name != '':\n",
    "        column_names.append(header_name)\n",
    "    \n",
    "print(column_names)"
   ]
  },
  {
   "cell_type": "code",
   "execution_count": null,
   "id": "a36e86bf72ba2cf",
   "metadata": {},
   "outputs": [],
   "source": [
    "launch_dict= dict.fromkeys(column_names)\n",
    "\n",
    "# Remove an irrelevant column\n",
    "del launch_dict['Date and time ( )']\n",
    "\n",
    "launch_dict['Flight No.'] = []\n",
    "launch_dict['Launch site'] = []\n",
    "launch_dict['Payload'] = []\n",
    "launch_dict['Payload mass'] = []\n",
    "launch_dict['Orbit'] = []\n",
    "launch_dict['Customer'] = []\n",
    "launch_dict['Launch outcome'] = []\n",
    "launch_dict['Version Booster']=[]\n",
    "launch_dict['Booster landing']=[]\n",
    "launch_dict['Date']=[]\n",
    "launch_dict['Time']=[]"
   ]
  },
  {
   "cell_type": "code",
   "execution_count": null,
   "id": "f93485d6be972820",
   "metadata": {},
   "outputs": [],
   "source": [
    "extracted_row = 0\n",
    "#Extract each table \n",
    "for table_number,table in enumerate(bs.find_all('table',\"wikitable plainrowheaders collapsible\")):\n",
    "   # get table row \n",
    "    index = 0\n",
    "    for rows in table.find_all(\"tr\"):\n",
    "        #check to see if first table heading is as number corresponding to launch a number \n",
    "        if rows.th:\n",
    "            if rows.th.string:\n",
    "                flight_number=rows.th.string.strip()\n",
    "                flag=flight_number.isdigit()\n",
    "        else:\n",
    "            flag=False\n",
    "        #get table element \n",
    "        row=rows.find_all('td')\n",
    "        index = index + 1\n",
    "        #if it is number save cells in a dictionary \n",
    "        if flag:\n",
    "            extracted_row += 1\n",
    "            # Flight Number value\n",
    "            print(f\"Extracting data for flight_number : {flight_number}\")\n",
    "            launch_dict['Flight No.'].append(flight_number)\n",
    "            datetimelist=date_time(row[0])\n",
    "            \n",
    "            # Date value\n",
    "            date = datetimelist[0].strip(',')\n",
    "            launch_dict['Date'].append(date)\n",
    "            \n",
    "            # Time value\n",
    "            time = datetimelist[1]\n",
    "            launch_dict['Time'].append(time)\n",
    "              \n",
    "            # Booster version\n",
    "            bv=booster_version(row[1])\n",
    "            if not(bv):\n",
    "                bv=row[1].a.string\n",
    "                launch_dict['Version Booster'].append(bv)\n",
    "            \n",
    "            # Launch Site\n",
    "            launch_site = row[2].a.string\n",
    "            launch_dict['Launch site'].append(launch_site)\n",
    "            \n",
    "            # Payload\n",
    "            payload = row[3].a.string\n",
    "            launch_dict['Payload'].append(payload)\n",
    "            \n",
    "            # Payload Mass\n",
    "            payload_mass = get_mass(row[4])\n",
    "            launch_dict['Payload mass'].append(payload_mass)\n",
    "            \n",
    "            # Orbit\n",
    "            orbit = row[5].a.string\n",
    "            launch_dict['Orbit'].append(orbit)\n",
    "            \n",
    "            # Customer\n",
    "            if row[6].a:  \n",
    "                customer = row[6].a.string\n",
    "            else:\n",
    "                customer = row[6].string\n",
    "            launch_dict['Customer'].append(customer)\n",
    "            \n",
    "            # Launch outcome\n",
    "            launch_outcome = list(row[7].strings)[0]\n",
    "            launch_dict['Launch outcome'].append(launch_outcome)\n",
    "            \n",
    "            # Booster landing\n",
    "            booster_landing = landing_status(row[8])\n",
    "            launch_dict['Booster landing'].append(booster_landing)"
   ]
  },
  {
   "cell_type": "code",
   "execution_count": null,
   "id": "e1ffffc29bf2457e",
   "metadata": {},
   "outputs": [],
   "source": [
    "df= pd.DataFrame({ key:pd.Series(value) for key, value in launch_dict.items() })"
   ]
  },
  {
   "cell_type": "code",
   "execution_count": null,
   "id": "89893547a54874c7",
   "metadata": {},
   "outputs": [],
   "source": [
    "df.head()"
   ]
  }
 ],
 "metadata": {
  "kernelspec": {
   "display_name": "Environment_Coursera_Data_Science_Course",
   "language": "python",
   "name": "python3"
  },
  "language_info": {
   "codemirror_mode": {
    "name": "ipython",
    "version": 3
   },
   "file_extension": ".py",
   "mimetype": "text/x-python",
   "name": "python",
   "nbconvert_exporter": "python",
   "pygments_lexer": "ipython3",
   "version": "3.12.5"
  }
 },
 "nbformat": 4,
 "nbformat_minor": 5
}

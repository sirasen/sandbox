{
 "cells": [
  {
   "cell_type": "code",
   "execution_count": 1,
   "id": "initial_id",
   "metadata": {
    "collapsed": true
   },
   "outputs": [],
   "source": [
    "import pandas as pd"
   ]
  },
  {
   "cell_type": "code",
   "execution_count": null,
   "id": "933d42d627602cee",
   "metadata": {},
   "outputs": [],
   "source": [
    "df=pd.read_csv(\"https://cf-courses-data.s3.us.cloud-object-storage.appdomain.cloud/IBM-DS0321EN-SkillsNetwork/datasets/dataset_part_1.csv\")\n",
    "df.head(10)"
   ]
  },
  {
   "cell_type": "code",
   "execution_count": null,
   "id": "f696f743e2ec9834",
   "metadata": {},
   "outputs": [],
   "source": [
    "len(df)"
   ]
  },
  {
   "cell_type": "code",
   "execution_count": null,
   "id": "b16c65c2dc23103b",
   "metadata": {},
   "outputs": [],
   "source": [
    "100*df.isnull().sum()/len(df)"
   ]
  },
  {
   "cell_type": "code",
   "execution_count": null,
   "id": "c042b03a0d1fad62",
   "metadata": {},
   "outputs": [],
   "source": [
    "df['LaunchSite'].value_counts()"
   ]
  },
  {
   "cell_type": "code",
   "execution_count": null,
   "id": "d838241250792daa",
   "metadata": {},
   "outputs": [],
   "source": [
    "df['Orbit'].value_counts()"
   ]
  },
  {
   "cell_type": "code",
   "execution_count": null,
   "id": "e6ef6db5f5b5f5a9",
   "metadata": {},
   "outputs": [],
   "source": [
    "landing_outcomes = df['Outcome'].value_counts()"
   ]
  },
  {
   "cell_type": "code",
   "execution_count": null,
   "id": "5aa94b685e384b02",
   "metadata": {},
   "outputs": [],
   "source": [
    "for i,outcome in enumerate(landing_outcomes.keys()):\n",
    "    print(i,outcome)"
   ]
  },
  {
   "cell_type": "code",
   "execution_count": null,
   "id": "b3e90365c8ea4178",
   "metadata": {},
   "outputs": [],
   "source": [
    "bad_outcomes=set(landing_outcomes.keys()[[1,3,5,6,7]])\n",
    "bad_outcomes"
   ]
  },
  {
   "cell_type": "code",
   "execution_count": null,
   "id": "88e3a68b95262976",
   "metadata": {},
   "outputs": [],
   "source": [
    "df['Class'] = df['Outcome'].map(lambda x : 0 if x in bad_outcomes else 1)"
   ]
  },
  {
   "cell_type": "code",
   "execution_count": null,
   "id": "84741ac5dc41c59f",
   "metadata": {},
   "outputs": [],
   "source": [
    "df['Class'][df['Class'] == 1].count()"
   ]
  }
 ],
 "metadata": {
  "kernelspec": {
   "display_name": "Environment_Coursera_Data_Science_Course",
   "language": "python",
   "name": "python3"
  },
  "language_info": {
   "codemirror_mode": {
    "name": "ipython",
    "version": 3
   },
   "file_extension": ".py",
   "mimetype": "text/x-python",
   "name": "python",
   "nbconvert_exporter": "python",
   "pygments_lexer": "ipython3",
   "version": "3.12.5"
  }
 },
 "nbformat": 4,
 "nbformat_minor": 5
}

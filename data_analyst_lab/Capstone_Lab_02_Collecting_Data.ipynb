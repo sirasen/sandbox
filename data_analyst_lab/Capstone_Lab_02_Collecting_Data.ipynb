{
 "cells": [
  {
   "cell_type": "code",
   "execution_count": null,
   "metadata": {},
   "outputs": [],
   "source": [
    "%pip install xlsxwriter\n",
    "%pip install pandas\n",
    "%pip install requests"
   ]
  },
  {
   "cell_type": "code",
   "execution_count": 25,
   "metadata": {},
   "outputs": [],
   "source": [
    "import requests\n",
    "import xlsxwriter\n",
    "import pandas as pd"
   ]
  },
  {
   "cell_type": "code",
   "execution_count": 28,
   "metadata": {},
   "outputs": [
    {
     "name": "stdout",
     "output_type": "stream",
     "text": [
      "There are 17371 jobs in ['Los Angeles', 'New York', 'San Francisco', 'Washington DC', 'Seattle', 'Austin', 'Detroit']\n",
      "There are 640 jobs in Los Angeles\n"
     ]
    }
   ],
   "source": [
    "JOB_URL = \"http://localhost:5000/data/all\"\n",
    "LOCATIONS = ['Los Angeles', 'New York', 'San Francisco', 'Washington DC', 'Seattle', 'Austin', 'Detroit']\n",
    "SKILLS = [ 'C', 'C#', 'C++', 'Java', 'JavaScript', 'Python', 'Scala', 'Oracle', 'SQL Server', 'MySQL Server', 'PostgreSQL', 'MongoDB']\n",
    "\n",
    "response = requests.get(JOB_URL)\n",
    "\n",
    "if response.ok:\n",
    "    jobs = response.json()\n",
    "\n",
    "number_of_jobs = 0\n",
    "\n",
    "for job in jobs:\n",
    "    if job['Location'] in LOCATIONS:\n",
    "        number_of_jobs += 1\n",
    "\n",
    "print(f\"There are {number_of_jobs} jobs in {LOCATIONS}\")\n",
    "\n",
    "def get_number_of_jobs_L(location):\n",
    "    __number_of_jobs = 0\n",
    "    for job in jobs:\n",
    "        if job['Location'] in location:\n",
    "            __number_of_jobs += 1\n",
    "    return __number_of_jobs\n",
    "\n",
    "def get_number_of_jobs_T(technology):\n",
    "    __number_of_jobs = 0\n",
    "    for job in jobs:\n",
    "        if technology.lower() in job['Key Skills'].lower():\n",
    "            __number_of_jobs += 1\n",
    "    return __number_of_jobs\n",
    "\n",
    "number_of_jobs = get_number_of_jobs_L(\"Los Angeles\")\n",
    "print(f\"There are {number_of_jobs} jobs in Los Angeles\")\n",
    "\n",
    "with xlsxwriter.Workbook('github-job-postings.xlsx') as workbook:\n",
    "\n",
    "    worksheet = workbook.add_worksheet('Number_Of_Jobs_Per_Technology')\n",
    "\n",
    "    # Header\n",
    "    worksheet.write(0, 0, \"Skill\")\n",
    "    worksheet.write(0, 1, \"Number of Jobs\")\n",
    "\n",
    "    row = 1\n",
    "    for skill in SKILLS:\n",
    "        number_of_jobs = get_number_of_jobs_T(skill)\n",
    "        worksheet.write(row, 0, skill)\n",
    "        worksheet.write(row, 1, number_of_jobs)\n",
    "        row += 1\n",
    "\n",
    "    worksheet = workbook.add_worksheet('Number_Of_Jobs_Per_Location')\n",
    "\n",
    "    # Header\n",
    "    worksheet.write(0, 0, \"Location\")\n",
    "    worksheet.write(0, 1, \"Number of Jobs\")\n",
    "\n",
    "    row = 1\n",
    "    for location in LOCATIONS:\n",
    "        number_of_jobs = get_number_of_jobs_L(location)\n",
    "        worksheet.write(row, 0, location)\n",
    "        worksheet.write(row, 1, number_of_jobs)\n",
    "        row += 1"
   ]
  }
 ],
 "metadata": {
  "kernelspec": {
   "display_name": "Environment_Coursera_Data_Science_Course",
   "language": "python",
   "name": "python3"
  },
  "language_info": {
   "codemirror_mode": {
    "name": "ipython",
    "version": 3
   },
   "file_extension": ".py",
   "mimetype": "text/x-python",
   "name": "python",
   "nbconvert_exporter": "python",
   "pygments_lexer": "ipython3",
   "version": "3.12.5"
  }
 },
 "nbformat": 4,
 "nbformat_minor": 2
}

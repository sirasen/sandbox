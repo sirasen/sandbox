{
 "cells": [
  {
   "cell_type": "code",
   "execution_count": null,
   "metadata": {},
   "outputs": [],
   "source": [
    "%pip install pandas\n",
    "%pip install numpy\n",
    "%pip install sqlite3\n",
    "%pip install plotly\n",
    "%pip install ipython-sql\n",
    "%pip install matplotlib\n",
    "%pip install seaborn"
   ]
  },
  {
   "cell_type": "code",
   "execution_count": 1,
   "metadata": {},
   "outputs": [],
   "source": [
    "import sqlite3\n",
    "import pandas as pd\n",
    "import numpy as np\n",
    "import seaborn as sns\n",
    "import matplotlib.pyplot as plt\n",
    "import plotly.express as px"
   ]
  },
  {
   "cell_type": "code",
   "execution_count": null,
   "metadata": {},
   "outputs": [],
   "source": [
    "!wsl --exec wget https://cf-courses-data.s3.us.cloud-object-storage.appdomain.cloud/IBM-DA0321EN-SkillsNetwork/LargeData/m4_survey_data.sqlite"
   ]
  },
  {
   "cell_type": "code",
   "execution_count": null,
   "metadata": {},
   "outputs": [],
   "source": [
    "conn = sqlite3.connect(\"m4_survey_data.sqlite\")"
   ]
  },
  {
   "cell_type": "code",
   "execution_count": null,
   "metadata": {},
   "outputs": [],
   "source": [
    "%load_ext sql\n",
    "%sql sqlite:///m4_survey_data.sqlite"
   ]
  },
  {
   "cell_type": "code",
   "execution_count": null,
   "metadata": {},
   "outputs": [],
   "source": [
    "%sql SELECT COUNT(*) FROM master"
   ]
  },
  {
   "cell_type": "code",
   "execution_count": null,
   "metadata": {},
   "outputs": [],
   "source": [
    "data = pd.read_sql_query(\"SELECT * FROM master\", conn)"
   ]
  },
  {
   "cell_type": "code",
   "execution_count": null,
   "metadata": {},
   "outputs": [],
   "source": [
    "data.head()"
   ]
  },
  {
   "cell_type": "code",
   "execution_count": null,
   "metadata": {},
   "outputs": [],
   "source": [
    "for column, number_of_missing_values in data.isna().sum().items():\n",
    "    if number_of_missing_values > 0:\n",
    "        print(f\"Column {column} has {number_of_missing_values} missing values\")"
   ]
  },
  {
   "cell_type": "code",
   "execution_count": null,
   "metadata": {},
   "outputs": [],
   "source": [
    "data.replace({ 'Age' : np.nan }, data.Age.mean(), inplace=True)"
   ]
  },
  {
   "cell_type": "code",
   "execution_count": null,
   "metadata": {},
   "outputs": [],
   "source": [
    "data.ConvertedComp.hist()"
   ]
  },
  {
   "cell_type": "code",
   "execution_count": null,
   "metadata": {},
   "outputs": [],
   "source": [
    "data.Age.plot(kind = 'box')"
   ]
  },
  {
   "cell_type": "code",
   "execution_count": null,
   "metadata": {},
   "outputs": [],
   "source": [
    "data.plot(kind = 'scatter', x = 'Age', y = 'WorkWeekHrs')"
   ]
  },
  {
   "cell_type": "code",
   "execution_count": null,
   "metadata": {},
   "outputs": [],
   "source": [
    "px.scatter(data, x = 'WorkWeekHrs', y = 'CodeRevHrs', size='Age')"
   ]
  },
  {
   "cell_type": "code",
   "execution_count": null,
   "metadata": {},
   "outputs": [],
   "source": [
    "pieplotdata = pd.read_sql_query(\"SELECT DatabaseDesireNextYear FROM DatabaseDesireNextYear\", conn).value_counts().head(5)\n",
    "ax = pieplotdata.plot(kind = 'pie', autopct='%1.1f%%', y = 'DatabaseDesireNextYear')\n",
    "ax.legend(bbox_to_anchor=(1, 1.02), loc = 'best')"
   ]
  },
  {
   "cell_type": "code",
   "execution_count": null,
   "metadata": {},
   "outputs": [],
   "source": [
    "barplotdata = data[(data.Age >= 30) & (data.index <= 35)][['Age', 'WorkWeekHrs', 'CodeRevHrs']].groupby([\"Age\"]).agg(['median'])\n",
    "barplotdata.plot(kind = 'bar', stacked=True)"
   ]
  },
  {
   "cell_type": "code",
   "execution_count": null,
   "metadata": {},
   "outputs": [],
   "source": [
    "lineplotdata = data[(data.Age >= 45) & (data.Age <= 60)][['Age', 'ConvertedComp']].groupby([\"Age\"]).agg(['median'])\n",
    "lineplotdata.plot(kind = 'line', y = 'ConvertedComp')"
   ]
  },
  {
   "cell_type": "code",
   "execution_count": null,
   "metadata": {},
   "outputs": [],
   "source": [
    "mainbranch_count = data[['MainBranch']].value_counts()\n",
    "mainbranch_count.plot(kind = 'barh')"
   ]
  },
  {
   "cell_type": "code",
   "execution_count": null,
   "metadata": {},
   "outputs": [],
   "source": [
    "pivot_table = pd.pivot_table(data, index='CareerSat', columns='JobSat', values='Respondent', aggfunc='count', fill_value=0)\n",
    "\n",
    "# Plotting\n",
    "plt.figure(figsize=(10, 6))\n",
    "sns.heatmap(pivot_table, annot=True, cmap='Blues', fmt='g')\n",
    "plt.title('Career Satisfaction vs. Job Satisfaction')\n",
    "plt.xlabel('Job Satisfaction')\n",
    "plt.ylabel('Career Satisfaction')\n",
    "plt.show()"
   ]
  },
  {
   "cell_type": "code",
   "execution_count": null,
   "metadata": {},
   "outputs": [],
   "source": [
    "pivot_table = pd.pivot_table(data, index='OpSys', columns='OpenSource', values='Respondent', aggfunc='count', fill_value=0)\n",
    "\n",
    "# Plotting\n",
    "pivot_table.plot(kind='bar')\n",
    "plt.title('Open Source Adoption Across Operating Systems')\n",
    "plt.xlabel('Operating System')\n",
    "plt.ylabel('Number of Respondents')\n",
    "plt.legend(title='Comparison with Closed Source')\n",
    "plt.xticks(rotation=0)\n",
    "plt.show()"
   ]
  },
  {
   "cell_type": "code",
   "execution_count": null,
   "metadata": {},
   "outputs": [],
   "source": [
    "pivot_table = pd.pivot_table(data, index='Employment', columns='MgrWant', values='Respondent', aggfunc='count', fill_value=0)\n",
    "\n",
    "# Plotting\n",
    "pivot_table.plot(kind='bar', stacked=True)\n",
    "plt.title('Career Aspirations by Employment Status')\n",
    "plt.xlabel('Employment Status')\n",
    "plt.ylabel('Number of Respondents')\n",
    "plt.legend(title='Desire to be a Manager')\n",
    "plt.xticks(rotation=0)\n",
    "plt.show()"
   ]
  },
  {
   "cell_type": "code",
   "execution_count": null,
   "metadata": {},
   "outputs": [],
   "source": [
    "data.to_excel('./data.xlsx', index=False)"
   ]
  },
  {
   "cell_type": "code",
   "execution_count": null,
   "metadata": {},
   "outputs": [],
   "source": [
    "conn.close()"
   ]
  }
 ],
 "metadata": {
  "kernelspec": {
   "display_name": "Environment_Coursera_Data_Science_Course",
   "language": "python",
   "name": "python3"
  },
  "language_info": {
   "codemirror_mode": {
    "name": "ipython",
    "version": 3
   },
   "file_extension": ".py",
   "mimetype": "text/x-python",
   "name": "python",
   "nbconvert_exporter": "python",
   "pygments_lexer": "ipython3",
   "version": "3.12.5"
  }
 },
 "nbformat": 4,
 "nbformat_minor": 2
}

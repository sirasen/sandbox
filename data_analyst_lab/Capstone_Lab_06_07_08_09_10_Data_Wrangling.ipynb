{
 "cells": [
  {
   "cell_type": "code",
   "execution_count": null,
   "metadata": {},
   "outputs": [],
   "source": [
    "%pip install pandas\n",
    "%pip install numpy"
   ]
  },
  {
   "cell_type": "code",
   "execution_count": null,
   "metadata": {},
   "outputs": [],
   "source": [
    "import pandas as pd\n",
    "import numpy as np"
   ]
  },
  {
   "cell_type": "code",
   "execution_count": null,
   "metadata": {},
   "outputs": [],
   "source": [
    "URL = \"https://cf-courses-data.s3.us.cloud-object-storage.appdomain.cloud/IBM-DA0321EN-SkillsNetwork/LargeData/m1_survey_data.csv\"\n",
    "\n",
    "data  = pd.read_csv(URL)"
   ]
  },
  {
   "cell_type": "code",
   "execution_count": 73,
   "metadata": {},
   "outputs": [
    {
     "name": "stdout",
     "output_type": "stream",
     "text": [
      "Number of duplicates : 0\n",
      "Number of duplicates in column 'Respondent' : 0\n"
     ]
    }
   ],
   "source": [
    "print(f\"Number of duplicates : {data.duplicated().sum()}\")\n",
    "print(f\"Number of duplicates in column 'Respondent' : {data.Respondent.duplicated().sum()}\")"
   ]
  },
  {
   "cell_type": "code",
   "execution_count": 74,
   "metadata": {},
   "outputs": [],
   "source": [
    "data.drop_duplicates(inplace=True)"
   ]
  },
  {
   "cell_type": "code",
   "execution_count": 75,
   "metadata": {},
   "outputs": [
    {
     "name": "stdout",
     "output_type": "stream",
     "text": [
      "Number of duplicates : 0\n"
     ]
    }
   ],
   "source": [
    "print(f\"Number of duplicates : {data.duplicated().sum()}\")"
   ]
  },
  {
   "cell_type": "code",
   "execution_count": 76,
   "metadata": {},
   "outputs": [
    {
     "name": "stdout",
     "output_type": "stream",
     "text": [
      "Column OpenSource has 81 missing values\n",
      "Column Student has 51 missing values\n",
      "Column EdLevel has 112 missing values\n",
      "Column UndergradMajor has 737 missing values\n",
      "Column EduOther has 164 missing values\n",
      "Column OrgSize has 96 missing values\n",
      "Column DevType has 65 missing values\n",
      "Column YearsCode has 9 missing values\n",
      "Column Age1stCode has 13 missing values\n",
      "Column YearsCodePro has 16 missing values\n",
      "Column JobSat has 1 missing values\n",
      "Column MgrIdiot has 493 missing values\n",
      "Column MgrMoney has 497 missing values\n",
      "Column MgrWant has 493 missing values\n",
      "Column LastInt has 413 missing values\n",
      "Column FizzBuzz has 37 missing values\n",
      "Column JobFactors has 3 missing values\n",
      "Column ResumeUpdate has 39 missing values\n",
      "Column CompTotal has 809 missing values\n",
      "Column CompFreq has 206 missing values\n",
      "Column ConvertedComp has 816 missing values\n",
      "Column WorkWeekHrs has 122 missing values\n",
      "Column WorkPlan has 121 missing values\n",
      "Column WorkChallenge has 164 missing values\n",
      "Column WorkRemote has 8 missing values\n",
      "Column WorkLoc has 32 missing values\n",
      "Column ImpSyn has 5 missing values\n",
      "Column CodeRev has 1 missing values\n",
      "Column CodeRevHrs has 2426 missing values\n",
      "Column UnitTests has 29 missing values\n",
      "Column PurchaseHow has 196 missing values\n",
      "Column PurchaseWhat has 38 missing values\n",
      "Column LanguageWorkedWith has 11 missing values\n",
      "Column LanguageDesireNextYear has 134 missing values\n",
      "Column DatabaseWorkedWith has 453 missing values\n",
      "Column DatabaseDesireNextYear has 1042 missing values\n",
      "Column PlatformWorkedWith has 411 missing values\n",
      "Column PlatformDesireNextYear has 544 missing values\n",
      "Column WebFrameWorkedWith has 1393 missing values\n",
      "Column WebFrameDesireNextYear has 1617 missing values\n",
      "Column MiscTechWorkedWith has 2182 missing values\n",
      "Column MiscTechDesireNextYear has 1455 missing values\n",
      "Column DevEnviron has 29 missing values\n",
      "Column OpSys has 34 missing values\n",
      "Column Containers has 82 missing values\n",
      "Column BlockchainOrg has 2322 missing values\n",
      "Column BlockchainIs has 2610 missing values\n",
      "Column BetterLife has 98 missing values\n",
      "Column ITperson has 35 missing values\n",
      "Column OffOn has 38 missing values\n",
      "Column SocialMedia has 293 missing values\n",
      "Column Extraversion has 20 missing values\n",
      "Column ScreenName has 507 missing values\n",
      "Column SOVisit1st has 325 missing values\n",
      "Column SOVisitFreq has 5 missing values\n",
      "Column SOVisitTo has 1 missing values\n",
      "Column SOFindAnswer has 3 missing values\n",
      "Column SOTimeSaved has 50 missing values\n",
      "Column SOHowMuchTime has 1917 missing values\n",
      "Column SOAccount has 1 missing values\n",
      "Column SOPartFreq has 1128 missing values\n",
      "Column SOJobs has 6 missing values\n",
      "Column EntTeams has 5 missing values\n",
      "Column WelcomeChange has 85 missing values\n",
      "Column SONewContent has 1965 missing values\n",
      "Column Age has 287 missing values\n",
      "Column Gender has 73 missing values\n",
      "Column Trans has 123 missing values\n",
      "Column Sexuality has 542 missing values\n",
      "Column Ethnicity has 675 missing values\n",
      "Column Dependents has 140 missing values\n",
      "Column SurveyLength has 19 missing values\n",
      "Column SurveyEase has 14 missing values\n"
     ]
    }
   ],
   "source": [
    "for column, number_of_missing_values in data.isna().sum().items():\n",
    "    if number_of_missing_values > 0:\n",
    "        print(f\"Column {column} has {number_of_missing_values} missing values\")\n"
   ]
  },
  {
   "cell_type": "code",
   "execution_count": 77,
   "metadata": {},
   "outputs": [
    {
     "name": "stdout",
     "output_type": "stream",
     "text": [
      "Column 'WorkLoc' has 32 missing values\n"
     ]
    }
   ],
   "source": [
    "print(f\"Column 'WorkLoc' has {data[\"WorkLoc\"].isna().sum()} missing values\")"
   ]
  },
  {
   "cell_type": "code",
   "execution_count": 78,
   "metadata": {},
   "outputs": [
    {
     "data": {
      "text/plain": [
       "WorkLoc\n",
       "Office                                            6806\n",
       "Home                                              3589\n",
       "Other place, such as a coworking space or cafe     971\n",
       "Name: count, dtype: int64"
      ]
     },
     "execution_count": 78,
     "metadata": {},
     "output_type": "execute_result"
    }
   ],
   "source": [
    "data.WorkLoc.value_counts()"
   ]
  },
  {
   "cell_type": "code",
   "execution_count": 79,
   "metadata": {},
   "outputs": [
    {
     "name": "stderr",
     "output_type": "stream",
     "text": [
      "C:\\Users\\DavyT\\AppData\\Local\\Temp\\ipykernel_30304\\3937697528.py:1: FutureWarning: A value is trying to be set on a copy of a DataFrame or Series through chained assignment using an inplace method.\n",
      "The behavior will change in pandas 3.0. This inplace method will never work because the intermediate object on which we are setting values always behaves as a copy.\n",
      "\n",
      "For example, when doing 'df[col].method(value, inplace=True)', try using 'df.method({col: value}, inplace=True)' or df[col] = df[col].method(value) instead, to perform the operation inplace on the original object.\n",
      "\n",
      "\n",
      "  data.WorkLoc.replace(np.nan, 'Office', inplace=True)\n"
     ]
    }
   ],
   "source": [
    "data.WorkLoc.replace(np.nan, 'Office', inplace=True)"
   ]
  },
  {
   "cell_type": "code",
   "execution_count": 80,
   "metadata": {},
   "outputs": [
    {
     "name": "stdout",
     "output_type": "stream",
     "text": [
      "Column 'WorkLoc' has 0 missing values\n"
     ]
    }
   ],
   "source": [
    "print(f\"Column 'WorkLoc' has {data[\"WorkLoc\"].isna().sum()} missing values\")"
   ]
  },
  {
   "cell_type": "code",
   "execution_count": 82,
   "metadata": {},
   "outputs": [
    {
     "data": {
      "text/plain": [
       "CompFreq\n",
       "Yearly     6073\n",
       "Monthly    4788\n",
       "Weekly      331\n",
       "Name: count, dtype: int64"
      ]
     },
     "execution_count": 82,
     "metadata": {},
     "output_type": "execute_result"
    }
   ],
   "source": [
    "data.CompFreq.value_counts()"
   ]
  },
  {
   "cell_type": "code",
   "execution_count": 83,
   "metadata": {},
   "outputs": [],
   "source": [
    "data['NormalizedAnnualCompensation'] = \\\n",
    "    np.where(data.CompFreq == 'Yearly', data.CompTotal, \\\n",
    "             np.where(data.CompFreq == 'Monthly', data.CompTotal * 12, \\\n",
    "                      np.where(data.CompFreq == 'Weekly', data.CompTotal * 52, np.nan)))"
   ]
  },
  {
   "cell_type": "code",
   "execution_count": 85,
   "metadata": {},
   "outputs": [
    {
     "name": "stdout",
     "output_type": "stream",
     "text": [
      "Median of NormalizedAnnualCompensation = 100000.0\n"
     ]
    }
   ],
   "source": [
    "print(f\"Median of NormalizedAnnualCompensation = {data.NormalizedAnnualCompensation.median()}\")"
   ]
  }
 ],
 "metadata": {
  "kernelspec": {
   "display_name": "Environment_Coursera_Data_Science_Course",
   "language": "python",
   "name": "python3"
  },
  "language_info": {
   "codemirror_mode": {
    "name": "ipython",
    "version": 3
   },
   "file_extension": ".py",
   "mimetype": "text/x-python",
   "name": "python",
   "nbconvert_exporter": "python",
   "pygments_lexer": "ipython3",
   "version": "3.12.5"
  }
 },
 "nbformat": 4,
 "nbformat_minor": 2
}
